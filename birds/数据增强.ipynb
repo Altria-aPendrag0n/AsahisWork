{
 "cells": [
  {
   "cell_type": "code",
   "execution_count": 1,
   "metadata": {},
   "outputs": [],
   "source": [
    "import random\n",
    "from PIL import Image\n",
    "from PIL import ImageEnhance\n",
    "import numpy as np\n",
    "from torchvision import transforms\n",
    "import os\n",
    "import glob"
   ]
  },
  {
   "cell_type": "code",
   "execution_count": 2,
   "metadata": {},
   "outputs": [],
   "source": [
    "def change_img(img):\n",
    "    p = random.randint(0, 3)\n",
    "    a1 = random.uniform(0.5, 2)\n",
    "    a2 = random.uniform(0.5, 2)\n",
    "    a3 = random.uniform(0.5, 2)\n",
    "    a4 = random.uniform(0.5, 2)\n",
    "    img = ImageEnhance.Color(img).enhance(a1) if p == 0 else img\n",
    "    img = ImageEnhance.Brightness(img).enhance(a2) if p == 1 else img\n",
    "    img = ImageEnhance.Contrast(img).enhance(a3) if p == 2 else img\n",
    "    img = ImageEnhance.Sharpness(img).enhance(a4) if p == 3 else img\n",
    "    enhance_1 = transforms.Compose(\n",
    "        [\n",
    "            transforms.RandomHorizontalFlip(p=0.6),\n",
    "            transforms.RandomRotation(degrees=(30)),\n",
    "        ]\n",
    "    )\n",
    "    img = enhance_1(img)\n",
    "    return img"
   ]
  },
  {
   "cell_type": "code",
   "execution_count": 3,
   "metadata": {},
   "outputs": [],
   "source": [
    "enhance_1 = transforms.Compose(\n",
    "    [transforms.RandomHorizontalFlip(p=0.6), transforms.RandomRotation(degrees=(30))]\n",
    ")"
   ]
  },
  {
   "cell_type": "code",
   "execution_count": 4,
   "metadata": {},
   "outputs": [],
   "source": [
    "def generate_img(dataset_path, targetpath):\n",
    "    if dataset_path:\n",
    "        file_list = os.listdir(dataset_path)\n",
    "        file_list = file_list[0:20]\n",
    "        if targetpath:\n",
    "            pass\n",
    "        else:\n",
    "            os.makedirs(targetpath)\n",
    "        for i in range(len(file_list)):\n",
    "            lst = glob.glob(f\"{dataset_path}/{file_list[i]}/*.jpg\")\n",
    "            os.makedirs(f\"{targetpath}/{file_list[i]}\")\n",
    "            for j in range(len(lst)):\n",
    "                img = Image.open(lst[j]).convert(\"RGB\")\n",
    "                img1 = change_img(img)\n",
    "                img1.save(f\"{targetpath}/{file_list[i]}/{j}.jpg\")"
   ]
  },
  {
   "cell_type": "code",
   "execution_count": 5,
   "metadata": {},
   "outputs": [],
   "source": [
    "dataset_path = \"./train\"\n",
    "target_path = \"./generate\"\n",
    "generate_img(dataset_path, target_path)"
   ]
  },
  {
   "cell_type": "code",
   "execution_count": 6,
   "metadata": {},
   "outputs": [],
   "source": [
    "img = Image.open(\"./train/ABBOTTS BABBLER/001.jpg\")\n",
    "img.save(\"input.jpg\", \"jpeg\")\n",
    "img1 = change_img(img)\n",
    "img1.save(\"output.jpg\", \"jpeg\")"
   ]
  }
 ],
 "metadata": {
  "kernelspec": {
   "display_name": "pytorch0",
   "language": "python",
   "name": "python3"
  },
  "language_info": {
   "codemirror_mode": {
    "name": "ipython",
    "version": 3
   },
   "file_extension": ".py",
   "mimetype": "text/x-python",
   "name": "python",
   "nbconvert_exporter": "python",
   "pygments_lexer": "ipython3",
   "version": "3.9.13"
  }
 },
 "nbformat": 4,
 "nbformat_minor": 2
}
